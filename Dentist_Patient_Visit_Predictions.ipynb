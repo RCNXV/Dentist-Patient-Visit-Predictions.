{
  "nbformat": 4,
  "nbformat_minor": 0,
  "metadata": {
    "colab": {
      "provenance": [],
      "authorship_tag": "ABX9TyP1sftRBexwkVEDSzvOQyz9",
      "include_colab_link": true
    },
    "kernelspec": {
      "name": "python3",
      "display_name": "Python 3"
    },
    "language_info": {
      "name": "python"
    }
  },
  "cells": [
    {
      "cell_type": "markdown",
      "metadata": {
        "id": "view-in-github",
        "colab_type": "text"
      },
      "source": [
        "<a href=\"https://colab.research.google.com/github/RCNXV/Dentist-Patient-Visit-Predictions./blob/main/Dentist_Patient_Visit_Predictions.ipynb\" target=\"_parent\"><img src=\"https://colab.research.google.com/assets/colab-badge.svg\" alt=\"Open In Colab\"/></a>"
      ]
    },
    {
      "cell_type": "markdown",
      "source": [
        "#Introduction"
      ],
      "metadata": {
        "id": "-1JaxOmL5bkF"
      }
    },
    {
      "cell_type": "markdown",
      "source": [
        "Background: \n",
        "\n",
        "There has been an increase in outpatient visits to dentists in City X. This is associated with consumption of sweet foods. With the increase in sales of sugary foods, it has the potential to affect the rate of visits to the dentist. See if there's a link between increased patient visits and sweet sales!"
      ],
      "metadata": {
        "id": "4BBmn6OH5fia"
      }
    },
    {
      "cell_type": "markdown",
      "source": [
        "# File Unloading"
      ],
      "metadata": {
        "id": "zKzNOvWFErjc"
      }
    },
    {
      "cell_type": "code",
      "execution_count": 1,
      "metadata": {
        "id": "CFWnX-kbEcWS",
        "colab": {
          "base_uri": "https://localhost:8080/"
        },
        "outputId": "3dd323de-7b94-48de-929b-f8abfa8a3c0e"
      },
      "outputs": [
        {
          "output_type": "stream",
          "name": "stdout",
          "text": [
            "Mounted at /content/drive0\n"
          ]
        }
      ],
      "source": [
        "import pandas as pd\n",
        "from google.colab import drive\n",
        "drive.mount('/content/drive0', force_remount=True)\n",
        "pd.set_option('display.max_columns', None)"
      ]
    },
    {
      "cell_type": "markdown",
      "source": [
        "The datasets used are patient visit data and sweet food sales data."
      ],
      "metadata": {
        "id": "r9nt-Wj_98bD"
      }
    },
    {
      "cell_type": "code",
      "source": [
        "df_visit = pd.read_csv(\"/content/drive0/MyDrive/Kerja/DA/Portofolio/Dentist Patient Visit Predictions/Dataset/city_x_dentist_visits.tsv\", sep=\"\\t\")\n",
        "df_sales = pd.read_csv(\"/content/drive0/MyDrive/Kerja/DA/Portofolio/Dentist Patient Visit Predictions/Dataset/city_x_food_sales.tsv\", sep=\"\\t\")"
      ],
      "metadata": {
        "id": "HVpkJTuOpyt3"
      },
      "execution_count": 2,
      "outputs": []
    },
    {
      "cell_type": "markdown",
      "source": [
        "Check the first dataset"
      ],
      "metadata": {
        "id": "wJf1XgRc9tdG"
      }
    },
    {
      "cell_type": "code",
      "source": [
        "print(\"df_visit size:\", df_visit.shape)\n",
        "\n",
        "df_visit.columns = ['Month','Year','the rate of visits to the dentist']\n",
        "df_visit"
      ],
      "metadata": {
        "colab": {
          "base_uri": "https://localhost:8080/",
          "height": 819
        },
        "id": "wphmfHexUvT_",
        "outputId": "326589f8-a8e1-4030-8d1e-ddc89a8b099e"
      },
      "execution_count": 3,
      "outputs": [
        {
          "output_type": "stream",
          "name": "stdout",
          "text": [
            "df_visit size: (24, 3)\n"
          ]
        },
        {
          "output_type": "execute_result",
          "data": {
            "text/plain": [
              "    Month  Year  the rate of visits to the dentist\n",
              "0       1  1996                                 37\n",
              "1       2  1996                                 32\n",
              "2       3  1996                                 56\n",
              "3       4  1996                                 43\n",
              "4       5  1996                                 52\n",
              "5       6  1996                                 70\n",
              "6       7  1996                                 64\n",
              "7       8  1996                                 88\n",
              "8       9  1996                                 74\n",
              "9      10  1996                                 98\n",
              "10     11  1996                                 80\n",
              "11     12  1996                                 46\n",
              "12      1  1997                                 66\n",
              "13      2  1997                                 78\n",
              "14      3  1997                                 46\n",
              "15      4  1997                                 62\n",
              "16      5  1997                                124\n",
              "17      6  1997                                106\n",
              "18      7  1997                                110\n",
              "19      8  1997                                 98\n",
              "20      9  1997                                 76\n",
              "21     10  1997                                132\n",
              "22     11  1997                                 82\n",
              "23     12  1997                                 84"
            ],
            "text/html": [
              "\n",
              "  <div id=\"df-0a5a8ad9-0a76-4174-b8e2-5485304b49cd\">\n",
              "    <div class=\"colab-df-container\">\n",
              "      <div>\n",
              "<style scoped>\n",
              "    .dataframe tbody tr th:only-of-type {\n",
              "        vertical-align: middle;\n",
              "    }\n",
              "\n",
              "    .dataframe tbody tr th {\n",
              "        vertical-align: top;\n",
              "    }\n",
              "\n",
              "    .dataframe thead th {\n",
              "        text-align: right;\n",
              "    }\n",
              "</style>\n",
              "<table border=\"1\" class=\"dataframe\">\n",
              "  <thead>\n",
              "    <tr style=\"text-align: right;\">\n",
              "      <th></th>\n",
              "      <th>Month</th>\n",
              "      <th>Year</th>\n",
              "      <th>the rate of visits to the dentist</th>\n",
              "    </tr>\n",
              "  </thead>\n",
              "  <tbody>\n",
              "    <tr>\n",
              "      <th>0</th>\n",
              "      <td>1</td>\n",
              "      <td>1996</td>\n",
              "      <td>37</td>\n",
              "    </tr>\n",
              "    <tr>\n",
              "      <th>1</th>\n",
              "      <td>2</td>\n",
              "      <td>1996</td>\n",
              "      <td>32</td>\n",
              "    </tr>\n",
              "    <tr>\n",
              "      <th>2</th>\n",
              "      <td>3</td>\n",
              "      <td>1996</td>\n",
              "      <td>56</td>\n",
              "    </tr>\n",
              "    <tr>\n",
              "      <th>3</th>\n",
              "      <td>4</td>\n",
              "      <td>1996</td>\n",
              "      <td>43</td>\n",
              "    </tr>\n",
              "    <tr>\n",
              "      <th>4</th>\n",
              "      <td>5</td>\n",
              "      <td>1996</td>\n",
              "      <td>52</td>\n",
              "    </tr>\n",
              "    <tr>\n",
              "      <th>5</th>\n",
              "      <td>6</td>\n",
              "      <td>1996</td>\n",
              "      <td>70</td>\n",
              "    </tr>\n",
              "    <tr>\n",
              "      <th>6</th>\n",
              "      <td>7</td>\n",
              "      <td>1996</td>\n",
              "      <td>64</td>\n",
              "    </tr>\n",
              "    <tr>\n",
              "      <th>7</th>\n",
              "      <td>8</td>\n",
              "      <td>1996</td>\n",
              "      <td>88</td>\n",
              "    </tr>\n",
              "    <tr>\n",
              "      <th>8</th>\n",
              "      <td>9</td>\n",
              "      <td>1996</td>\n",
              "      <td>74</td>\n",
              "    </tr>\n",
              "    <tr>\n",
              "      <th>9</th>\n",
              "      <td>10</td>\n",
              "      <td>1996</td>\n",
              "      <td>98</td>\n",
              "    </tr>\n",
              "    <tr>\n",
              "      <th>10</th>\n",
              "      <td>11</td>\n",
              "      <td>1996</td>\n",
              "      <td>80</td>\n",
              "    </tr>\n",
              "    <tr>\n",
              "      <th>11</th>\n",
              "      <td>12</td>\n",
              "      <td>1996</td>\n",
              "      <td>46</td>\n",
              "    </tr>\n",
              "    <tr>\n",
              "      <th>12</th>\n",
              "      <td>1</td>\n",
              "      <td>1997</td>\n",
              "      <td>66</td>\n",
              "    </tr>\n",
              "    <tr>\n",
              "      <th>13</th>\n",
              "      <td>2</td>\n",
              "      <td>1997</td>\n",
              "      <td>78</td>\n",
              "    </tr>\n",
              "    <tr>\n",
              "      <th>14</th>\n",
              "      <td>3</td>\n",
              "      <td>1997</td>\n",
              "      <td>46</td>\n",
              "    </tr>\n",
              "    <tr>\n",
              "      <th>15</th>\n",
              "      <td>4</td>\n",
              "      <td>1997</td>\n",
              "      <td>62</td>\n",
              "    </tr>\n",
              "    <tr>\n",
              "      <th>16</th>\n",
              "      <td>5</td>\n",
              "      <td>1997</td>\n",
              "      <td>124</td>\n",
              "    </tr>\n",
              "    <tr>\n",
              "      <th>17</th>\n",
              "      <td>6</td>\n",
              "      <td>1997</td>\n",
              "      <td>106</td>\n",
              "    </tr>\n",
              "    <tr>\n",
              "      <th>18</th>\n",
              "      <td>7</td>\n",
              "      <td>1997</td>\n",
              "      <td>110</td>\n",
              "    </tr>\n",
              "    <tr>\n",
              "      <th>19</th>\n",
              "      <td>8</td>\n",
              "      <td>1997</td>\n",
              "      <td>98</td>\n",
              "    </tr>\n",
              "    <tr>\n",
              "      <th>20</th>\n",
              "      <td>9</td>\n",
              "      <td>1997</td>\n",
              "      <td>76</td>\n",
              "    </tr>\n",
              "    <tr>\n",
              "      <th>21</th>\n",
              "      <td>10</td>\n",
              "      <td>1997</td>\n",
              "      <td>132</td>\n",
              "    </tr>\n",
              "    <tr>\n",
              "      <th>22</th>\n",
              "      <td>11</td>\n",
              "      <td>1997</td>\n",
              "      <td>82</td>\n",
              "    </tr>\n",
              "    <tr>\n",
              "      <th>23</th>\n",
              "      <td>12</td>\n",
              "      <td>1997</td>\n",
              "      <td>84</td>\n",
              "    </tr>\n",
              "  </tbody>\n",
              "</table>\n",
              "</div>\n",
              "      <button class=\"colab-df-convert\" onclick=\"convertToInteractive('df-0a5a8ad9-0a76-4174-b8e2-5485304b49cd')\"\n",
              "              title=\"Convert this dataframe to an interactive table.\"\n",
              "              style=\"display:none;\">\n",
              "        \n",
              "  <svg xmlns=\"http://www.w3.org/2000/svg\" height=\"24px\"viewBox=\"0 0 24 24\"\n",
              "       width=\"24px\">\n",
              "    <path d=\"M0 0h24v24H0V0z\" fill=\"none\"/>\n",
              "    <path d=\"M18.56 5.44l.94 2.06.94-2.06 2.06-.94-2.06-.94-.94-2.06-.94 2.06-2.06.94zm-11 1L8.5 8.5l.94-2.06 2.06-.94-2.06-.94L8.5 2.5l-.94 2.06-2.06.94zm10 10l.94 2.06.94-2.06 2.06-.94-2.06-.94-.94-2.06-.94 2.06-2.06.94z\"/><path d=\"M17.41 7.96l-1.37-1.37c-.4-.4-.92-.59-1.43-.59-.52 0-1.04.2-1.43.59L10.3 9.45l-7.72 7.72c-.78.78-.78 2.05 0 2.83L4 21.41c.39.39.9.59 1.41.59.51 0 1.02-.2 1.41-.59l7.78-7.78 2.81-2.81c.8-.78.8-2.07 0-2.86zM5.41 20L4 18.59l7.72-7.72 1.47 1.35L5.41 20z\"/>\n",
              "  </svg>\n",
              "      </button>\n",
              "      \n",
              "  <style>\n",
              "    .colab-df-container {\n",
              "      display:flex;\n",
              "      flex-wrap:wrap;\n",
              "      gap: 12px;\n",
              "    }\n",
              "\n",
              "    .colab-df-convert {\n",
              "      background-color: #E8F0FE;\n",
              "      border: none;\n",
              "      border-radius: 50%;\n",
              "      cursor: pointer;\n",
              "      display: none;\n",
              "      fill: #1967D2;\n",
              "      height: 32px;\n",
              "      padding: 0 0 0 0;\n",
              "      width: 32px;\n",
              "    }\n",
              "\n",
              "    .colab-df-convert:hover {\n",
              "      background-color: #E2EBFA;\n",
              "      box-shadow: 0px 1px 2px rgba(60, 64, 67, 0.3), 0px 1px 3px 1px rgba(60, 64, 67, 0.15);\n",
              "      fill: #174EA6;\n",
              "    }\n",
              "\n",
              "    [theme=dark] .colab-df-convert {\n",
              "      background-color: #3B4455;\n",
              "      fill: #D2E3FC;\n",
              "    }\n",
              "\n",
              "    [theme=dark] .colab-df-convert:hover {\n",
              "      background-color: #434B5C;\n",
              "      box-shadow: 0px 1px 3px 1px rgba(0, 0, 0, 0.15);\n",
              "      filter: drop-shadow(0px 1px 2px rgba(0, 0, 0, 0.3));\n",
              "      fill: #FFFFFF;\n",
              "    }\n",
              "  </style>\n",
              "\n",
              "      <script>\n",
              "        const buttonEl =\n",
              "          document.querySelector('#df-0a5a8ad9-0a76-4174-b8e2-5485304b49cd button.colab-df-convert');\n",
              "        buttonEl.style.display =\n",
              "          google.colab.kernel.accessAllowed ? 'block' : 'none';\n",
              "\n",
              "        async function convertToInteractive(key) {\n",
              "          const element = document.querySelector('#df-0a5a8ad9-0a76-4174-b8e2-5485304b49cd');\n",
              "          const dataTable =\n",
              "            await google.colab.kernel.invokeFunction('convertToInteractive',\n",
              "                                                     [key], {});\n",
              "          if (!dataTable) return;\n",
              "\n",
              "          const docLinkHtml = 'Like what you see? Visit the ' +\n",
              "            '<a target=\"_blank\" href=https://colab.research.google.com/notebooks/data_table.ipynb>data table notebook</a>'\n",
              "            + ' to learn more about interactive tables.';\n",
              "          element.innerHTML = '';\n",
              "          dataTable['output_type'] = 'display_data';\n",
              "          await google.colab.output.renderOutput(dataTable, element);\n",
              "          const docLink = document.createElement('div');\n",
              "          docLink.innerHTML = docLinkHtml;\n",
              "          element.appendChild(docLink);\n",
              "        }\n",
              "      </script>\n",
              "    </div>\n",
              "  </div>\n",
              "  "
            ]
          },
          "metadata": {},
          "execution_count": 3
        }
      ]
    },
    {
      "cell_type": "markdown",
      "source": [
        "there are 3 columns, namely month, year, and rate of visits. there is no missing value in it. \n",
        "next is check the second dataset."
      ],
      "metadata": {
        "id": "HkPILhU_90US"
      }
    },
    {
      "cell_type": "code",
      "source": [
        "print('df_sales size:', df_sales.shape)\n",
        "\n",
        "df_sales.columns = ['No','Month','Year','candy sales','cereal sales','banana sales']\n",
        "df_sales"
      ],
      "metadata": {
        "colab": {
          "base_uri": "https://localhost:8080/",
          "height": 819
        },
        "id": "oLesduRiFPK6",
        "outputId": "dec1060e-af46-428e-9fa0-792b27b89095"
      },
      "execution_count": 4,
      "outputs": [
        {
          "output_type": "stream",
          "name": "stdout",
          "text": [
            "df_sales size: (24, 6)\n"
          ]
        },
        {
          "output_type": "execute_result",
          "data": {
            "text/plain": [
              "    No  Month  Year  candy sales  cereal sales  banana sales\n",
              "0    1      1  1996       200661         10324        112146\n",
              "1    2      2  1996       297141         13150        175417\n",
              "2    3      3  1996       235586          5398        104645\n",
              "3    4      4  1996       299498          7609        112283\n",
              "4    5      5  1996       395824          5190        137083\n",
              "5    6      6  1996       247212         14571        198130\n",
              "6    7      7  1996       273899         13407        194685\n",
              "7    8      8  1996       184405          8914        100091\n",
              "8    9      9  1996       141211          3663        194972\n",
              "9   10     10  1996       292225         14756        133166\n",
              "10  11     11  1996       227864          3883        155598\n",
              "11  12     12  1996       259963          5720        104563\n",
              "12  13      1  1997       433783         16209        104216\n",
              "13  14      2  1997       343034          5955        142908\n",
              "14  15      3  1997       419255         14789        135994\n",
              "15  16      4  1997       393175         11150        154659\n",
              "16  17      5  1997       304954          4930        122983\n",
              "17  18      6  1997       439380         15041        104657\n",
              "18  19      7  1997       270706         14210        163008\n",
              "19  20      8  1997       319472          5002        149116\n",
              "20  21      9  1997       262688          3172        144727\n",
              "21  22     10  1997       322140          9818        148500\n",
              "22  23     11  1997       467572         13545        120676\n",
              "23  24     12  1997       431484          2372        162135"
            ],
            "text/html": [
              "\n",
              "  <div id=\"df-8f45212c-ab09-4c08-8cb8-af00b52161e3\">\n",
              "    <div class=\"colab-df-container\">\n",
              "      <div>\n",
              "<style scoped>\n",
              "    .dataframe tbody tr th:only-of-type {\n",
              "        vertical-align: middle;\n",
              "    }\n",
              "\n",
              "    .dataframe tbody tr th {\n",
              "        vertical-align: top;\n",
              "    }\n",
              "\n",
              "    .dataframe thead th {\n",
              "        text-align: right;\n",
              "    }\n",
              "</style>\n",
              "<table border=\"1\" class=\"dataframe\">\n",
              "  <thead>\n",
              "    <tr style=\"text-align: right;\">\n",
              "      <th></th>\n",
              "      <th>No</th>\n",
              "      <th>Month</th>\n",
              "      <th>Year</th>\n",
              "      <th>candy sales</th>\n",
              "      <th>cereal sales</th>\n",
              "      <th>banana sales</th>\n",
              "    </tr>\n",
              "  </thead>\n",
              "  <tbody>\n",
              "    <tr>\n",
              "      <th>0</th>\n",
              "      <td>1</td>\n",
              "      <td>1</td>\n",
              "      <td>1996</td>\n",
              "      <td>200661</td>\n",
              "      <td>10324</td>\n",
              "      <td>112146</td>\n",
              "    </tr>\n",
              "    <tr>\n",
              "      <th>1</th>\n",
              "      <td>2</td>\n",
              "      <td>2</td>\n",
              "      <td>1996</td>\n",
              "      <td>297141</td>\n",
              "      <td>13150</td>\n",
              "      <td>175417</td>\n",
              "    </tr>\n",
              "    <tr>\n",
              "      <th>2</th>\n",
              "      <td>3</td>\n",
              "      <td>3</td>\n",
              "      <td>1996</td>\n",
              "      <td>235586</td>\n",
              "      <td>5398</td>\n",
              "      <td>104645</td>\n",
              "    </tr>\n",
              "    <tr>\n",
              "      <th>3</th>\n",
              "      <td>4</td>\n",
              "      <td>4</td>\n",
              "      <td>1996</td>\n",
              "      <td>299498</td>\n",
              "      <td>7609</td>\n",
              "      <td>112283</td>\n",
              "    </tr>\n",
              "    <tr>\n",
              "      <th>4</th>\n",
              "      <td>5</td>\n",
              "      <td>5</td>\n",
              "      <td>1996</td>\n",
              "      <td>395824</td>\n",
              "      <td>5190</td>\n",
              "      <td>137083</td>\n",
              "    </tr>\n",
              "    <tr>\n",
              "      <th>5</th>\n",
              "      <td>6</td>\n",
              "      <td>6</td>\n",
              "      <td>1996</td>\n",
              "      <td>247212</td>\n",
              "      <td>14571</td>\n",
              "      <td>198130</td>\n",
              "    </tr>\n",
              "    <tr>\n",
              "      <th>6</th>\n",
              "      <td>7</td>\n",
              "      <td>7</td>\n",
              "      <td>1996</td>\n",
              "      <td>273899</td>\n",
              "      <td>13407</td>\n",
              "      <td>194685</td>\n",
              "    </tr>\n",
              "    <tr>\n",
              "      <th>7</th>\n",
              "      <td>8</td>\n",
              "      <td>8</td>\n",
              "      <td>1996</td>\n",
              "      <td>184405</td>\n",
              "      <td>8914</td>\n",
              "      <td>100091</td>\n",
              "    </tr>\n",
              "    <tr>\n",
              "      <th>8</th>\n",
              "      <td>9</td>\n",
              "      <td>9</td>\n",
              "      <td>1996</td>\n",
              "      <td>141211</td>\n",
              "      <td>3663</td>\n",
              "      <td>194972</td>\n",
              "    </tr>\n",
              "    <tr>\n",
              "      <th>9</th>\n",
              "      <td>10</td>\n",
              "      <td>10</td>\n",
              "      <td>1996</td>\n",
              "      <td>292225</td>\n",
              "      <td>14756</td>\n",
              "      <td>133166</td>\n",
              "    </tr>\n",
              "    <tr>\n",
              "      <th>10</th>\n",
              "      <td>11</td>\n",
              "      <td>11</td>\n",
              "      <td>1996</td>\n",
              "      <td>227864</td>\n",
              "      <td>3883</td>\n",
              "      <td>155598</td>\n",
              "    </tr>\n",
              "    <tr>\n",
              "      <th>11</th>\n",
              "      <td>12</td>\n",
              "      <td>12</td>\n",
              "      <td>1996</td>\n",
              "      <td>259963</td>\n",
              "      <td>5720</td>\n",
              "      <td>104563</td>\n",
              "    </tr>\n",
              "    <tr>\n",
              "      <th>12</th>\n",
              "      <td>13</td>\n",
              "      <td>1</td>\n",
              "      <td>1997</td>\n",
              "      <td>433783</td>\n",
              "      <td>16209</td>\n",
              "      <td>104216</td>\n",
              "    </tr>\n",
              "    <tr>\n",
              "      <th>13</th>\n",
              "      <td>14</td>\n",
              "      <td>2</td>\n",
              "      <td>1997</td>\n",
              "      <td>343034</td>\n",
              "      <td>5955</td>\n",
              "      <td>142908</td>\n",
              "    </tr>\n",
              "    <tr>\n",
              "      <th>14</th>\n",
              "      <td>15</td>\n",
              "      <td>3</td>\n",
              "      <td>1997</td>\n",
              "      <td>419255</td>\n",
              "      <td>14789</td>\n",
              "      <td>135994</td>\n",
              "    </tr>\n",
              "    <tr>\n",
              "      <th>15</th>\n",
              "      <td>16</td>\n",
              "      <td>4</td>\n",
              "      <td>1997</td>\n",
              "      <td>393175</td>\n",
              "      <td>11150</td>\n",
              "      <td>154659</td>\n",
              "    </tr>\n",
              "    <tr>\n",
              "      <th>16</th>\n",
              "      <td>17</td>\n",
              "      <td>5</td>\n",
              "      <td>1997</td>\n",
              "      <td>304954</td>\n",
              "      <td>4930</td>\n",
              "      <td>122983</td>\n",
              "    </tr>\n",
              "    <tr>\n",
              "      <th>17</th>\n",
              "      <td>18</td>\n",
              "      <td>6</td>\n",
              "      <td>1997</td>\n",
              "      <td>439380</td>\n",
              "      <td>15041</td>\n",
              "      <td>104657</td>\n",
              "    </tr>\n",
              "    <tr>\n",
              "      <th>18</th>\n",
              "      <td>19</td>\n",
              "      <td>7</td>\n",
              "      <td>1997</td>\n",
              "      <td>270706</td>\n",
              "      <td>14210</td>\n",
              "      <td>163008</td>\n",
              "    </tr>\n",
              "    <tr>\n",
              "      <th>19</th>\n",
              "      <td>20</td>\n",
              "      <td>8</td>\n",
              "      <td>1997</td>\n",
              "      <td>319472</td>\n",
              "      <td>5002</td>\n",
              "      <td>149116</td>\n",
              "    </tr>\n",
              "    <tr>\n",
              "      <th>20</th>\n",
              "      <td>21</td>\n",
              "      <td>9</td>\n",
              "      <td>1997</td>\n",
              "      <td>262688</td>\n",
              "      <td>3172</td>\n",
              "      <td>144727</td>\n",
              "    </tr>\n",
              "    <tr>\n",
              "      <th>21</th>\n",
              "      <td>22</td>\n",
              "      <td>10</td>\n",
              "      <td>1997</td>\n",
              "      <td>322140</td>\n",
              "      <td>9818</td>\n",
              "      <td>148500</td>\n",
              "    </tr>\n",
              "    <tr>\n",
              "      <th>22</th>\n",
              "      <td>23</td>\n",
              "      <td>11</td>\n",
              "      <td>1997</td>\n",
              "      <td>467572</td>\n",
              "      <td>13545</td>\n",
              "      <td>120676</td>\n",
              "    </tr>\n",
              "    <tr>\n",
              "      <th>23</th>\n",
              "      <td>24</td>\n",
              "      <td>12</td>\n",
              "      <td>1997</td>\n",
              "      <td>431484</td>\n",
              "      <td>2372</td>\n",
              "      <td>162135</td>\n",
              "    </tr>\n",
              "  </tbody>\n",
              "</table>\n",
              "</div>\n",
              "      <button class=\"colab-df-convert\" onclick=\"convertToInteractive('df-8f45212c-ab09-4c08-8cb8-af00b52161e3')\"\n",
              "              title=\"Convert this dataframe to an interactive table.\"\n",
              "              style=\"display:none;\">\n",
              "        \n",
              "  <svg xmlns=\"http://www.w3.org/2000/svg\" height=\"24px\"viewBox=\"0 0 24 24\"\n",
              "       width=\"24px\">\n",
              "    <path d=\"M0 0h24v24H0V0z\" fill=\"none\"/>\n",
              "    <path d=\"M18.56 5.44l.94 2.06.94-2.06 2.06-.94-2.06-.94-.94-2.06-.94 2.06-2.06.94zm-11 1L8.5 8.5l.94-2.06 2.06-.94-2.06-.94L8.5 2.5l-.94 2.06-2.06.94zm10 10l.94 2.06.94-2.06 2.06-.94-2.06-.94-.94-2.06-.94 2.06-2.06.94z\"/><path d=\"M17.41 7.96l-1.37-1.37c-.4-.4-.92-.59-1.43-.59-.52 0-1.04.2-1.43.59L10.3 9.45l-7.72 7.72c-.78.78-.78 2.05 0 2.83L4 21.41c.39.39.9.59 1.41.59.51 0 1.02-.2 1.41-.59l7.78-7.78 2.81-2.81c.8-.78.8-2.07 0-2.86zM5.41 20L4 18.59l7.72-7.72 1.47 1.35L5.41 20z\"/>\n",
              "  </svg>\n",
              "      </button>\n",
              "      \n",
              "  <style>\n",
              "    .colab-df-container {\n",
              "      display:flex;\n",
              "      flex-wrap:wrap;\n",
              "      gap: 12px;\n",
              "    }\n",
              "\n",
              "    .colab-df-convert {\n",
              "      background-color: #E8F0FE;\n",
              "      border: none;\n",
              "      border-radius: 50%;\n",
              "      cursor: pointer;\n",
              "      display: none;\n",
              "      fill: #1967D2;\n",
              "      height: 32px;\n",
              "      padding: 0 0 0 0;\n",
              "      width: 32px;\n",
              "    }\n",
              "\n",
              "    .colab-df-convert:hover {\n",
              "      background-color: #E2EBFA;\n",
              "      box-shadow: 0px 1px 2px rgba(60, 64, 67, 0.3), 0px 1px 3px 1px rgba(60, 64, 67, 0.15);\n",
              "      fill: #174EA6;\n",
              "    }\n",
              "\n",
              "    [theme=dark] .colab-df-convert {\n",
              "      background-color: #3B4455;\n",
              "      fill: #D2E3FC;\n",
              "    }\n",
              "\n",
              "    [theme=dark] .colab-df-convert:hover {\n",
              "      background-color: #434B5C;\n",
              "      box-shadow: 0px 1px 3px 1px rgba(0, 0, 0, 0.15);\n",
              "      filter: drop-shadow(0px 1px 2px rgba(0, 0, 0, 0.3));\n",
              "      fill: #FFFFFF;\n",
              "    }\n",
              "  </style>\n",
              "\n",
              "      <script>\n",
              "        const buttonEl =\n",
              "          document.querySelector('#df-8f45212c-ab09-4c08-8cb8-af00b52161e3 button.colab-df-convert');\n",
              "        buttonEl.style.display =\n",
              "          google.colab.kernel.accessAllowed ? 'block' : 'none';\n",
              "\n",
              "        async function convertToInteractive(key) {\n",
              "          const element = document.querySelector('#df-8f45212c-ab09-4c08-8cb8-af00b52161e3');\n",
              "          const dataTable =\n",
              "            await google.colab.kernel.invokeFunction('convertToInteractive',\n",
              "                                                     [key], {});\n",
              "          if (!dataTable) return;\n",
              "\n",
              "          const docLinkHtml = 'Like what you see? Visit the ' +\n",
              "            '<a target=\"_blank\" href=https://colab.research.google.com/notebooks/data_table.ipynb>data table notebook</a>'\n",
              "            + ' to learn more about interactive tables.';\n",
              "          element.innerHTML = '';\n",
              "          dataTable['output_type'] = 'display_data';\n",
              "          await google.colab.output.renderOutput(dataTable, element);\n",
              "          const docLink = document.createElement('div');\n",
              "          docLink.innerHTML = docLinkHtml;\n",
              "          element.appendChild(docLink);\n",
              "        }\n",
              "      </script>\n",
              "    </div>\n",
              "  </div>\n",
              "  "
            ]
          },
          "metadata": {},
          "execution_count": 4
        }
      ]
    },
    {
      "cell_type": "markdown",
      "source": [
        "there are 6 columns, namely number, month, year, candy sales, cereal sales, and banana sales. There is no missing value in it."
      ],
      "metadata": {
        "id": "EDZ-RvFi-FGs"
      }
    },
    {
      "cell_type": "markdown",
      "source": [
        "# Data Preparation"
      ],
      "metadata": {
        "id": "WdOCF38k5OTI"
      }
    },
    {
      "cell_type": "markdown",
      "source": [
        "Merge the two datasets before creating a regression model, because in both datasets there are similarities, namely the 'Month' and 'Year' columns. Then these 'Months' and 'Years' are combined into a 'Period' column. So that both datasets have the same column, that is 'Period' column. merge the two using inner join."
      ],
      "metadata": {
        "id": "4i8QXFbl-Ysu"
      }
    },
    {
      "cell_type": "code",
      "source": [
        "str_month = lambda x: \"0\"+str(x) if x<10 else str(x)\n",
        "df_visit[\"Period\"] = df_visit[\"Year\"].map(str) + \"-\" + df_visit[\"Month\"].map(str_month)\n",
        "df_sales[\"Period\"] = df_sales[\"Year\"].map(str) + \"-\" + df_sales[\"Month\"].map(str_month)\n",
        "\n",
        "df = (df_visit.drop(columns=[\"Month\", \"Year\"])\n",
        "              .set_index('Period')\n",
        "              .join(df_sales.drop(columns=[\"No\", \"Month\", \"Year\"])\n",
        "                            .set_index('Period')))\n",
        "\n",
        "df"
      ],
      "metadata": {
        "colab": {
          "base_uri": "https://localhost:8080/",
          "height": 833
        },
        "id": "bXIwsI1SIGaP",
        "outputId": "ad4ea43a-e312-48f7-d9ab-8ae2815f7453"
      },
      "execution_count": 5,
      "outputs": [
        {
          "output_type": "execute_result",
          "data": {
            "text/plain": [
              "         the rate of visits to the dentist  candy sales  cereal sales  \\\n",
              "Period                                                                  \n",
              "1996-01                                 37       200661         10324   \n",
              "1996-02                                 32       297141         13150   \n",
              "1996-03                                 56       235586          5398   \n",
              "1996-04                                 43       299498          7609   \n",
              "1996-05                                 52       395824          5190   \n",
              "1996-06                                 70       247212         14571   \n",
              "1996-07                                 64       273899         13407   \n",
              "1996-08                                 88       184405          8914   \n",
              "1996-09                                 74       141211          3663   \n",
              "1996-10                                 98       292225         14756   \n",
              "1996-11                                 80       227864          3883   \n",
              "1996-12                                 46       259963          5720   \n",
              "1997-01                                 66       433783         16209   \n",
              "1997-02                                 78       343034          5955   \n",
              "1997-03                                 46       419255         14789   \n",
              "1997-04                                 62       393175         11150   \n",
              "1997-05                                124       304954          4930   \n",
              "1997-06                                106       439380         15041   \n",
              "1997-07                                110       270706         14210   \n",
              "1997-08                                 98       319472          5002   \n",
              "1997-09                                 76       262688          3172   \n",
              "1997-10                                132       322140          9818   \n",
              "1997-11                                 82       467572         13545   \n",
              "1997-12                                 84       431484          2372   \n",
              "\n",
              "         banana sales  \n",
              "Period                 \n",
              "1996-01        112146  \n",
              "1996-02        175417  \n",
              "1996-03        104645  \n",
              "1996-04        112283  \n",
              "1996-05        137083  \n",
              "1996-06        198130  \n",
              "1996-07        194685  \n",
              "1996-08        100091  \n",
              "1996-09        194972  \n",
              "1996-10        133166  \n",
              "1996-11        155598  \n",
              "1996-12        104563  \n",
              "1997-01        104216  \n",
              "1997-02        142908  \n",
              "1997-03        135994  \n",
              "1997-04        154659  \n",
              "1997-05        122983  \n",
              "1997-06        104657  \n",
              "1997-07        163008  \n",
              "1997-08        149116  \n",
              "1997-09        144727  \n",
              "1997-10        148500  \n",
              "1997-11        120676  \n",
              "1997-12        162135  "
            ],
            "text/html": [
              "\n",
              "  <div id=\"df-3d6562be-3c8a-45ff-832c-40d159cdd14d\">\n",
              "    <div class=\"colab-df-container\">\n",
              "      <div>\n",
              "<style scoped>\n",
              "    .dataframe tbody tr th:only-of-type {\n",
              "        vertical-align: middle;\n",
              "    }\n",
              "\n",
              "    .dataframe tbody tr th {\n",
              "        vertical-align: top;\n",
              "    }\n",
              "\n",
              "    .dataframe thead th {\n",
              "        text-align: right;\n",
              "    }\n",
              "</style>\n",
              "<table border=\"1\" class=\"dataframe\">\n",
              "  <thead>\n",
              "    <tr style=\"text-align: right;\">\n",
              "      <th></th>\n",
              "      <th>the rate of visits to the dentist</th>\n",
              "      <th>candy sales</th>\n",
              "      <th>cereal sales</th>\n",
              "      <th>banana sales</th>\n",
              "    </tr>\n",
              "    <tr>\n",
              "      <th>Period</th>\n",
              "      <th></th>\n",
              "      <th></th>\n",
              "      <th></th>\n",
              "      <th></th>\n",
              "    </tr>\n",
              "  </thead>\n",
              "  <tbody>\n",
              "    <tr>\n",
              "      <th>1996-01</th>\n",
              "      <td>37</td>\n",
              "      <td>200661</td>\n",
              "      <td>10324</td>\n",
              "      <td>112146</td>\n",
              "    </tr>\n",
              "    <tr>\n",
              "      <th>1996-02</th>\n",
              "      <td>32</td>\n",
              "      <td>297141</td>\n",
              "      <td>13150</td>\n",
              "      <td>175417</td>\n",
              "    </tr>\n",
              "    <tr>\n",
              "      <th>1996-03</th>\n",
              "      <td>56</td>\n",
              "      <td>235586</td>\n",
              "      <td>5398</td>\n",
              "      <td>104645</td>\n",
              "    </tr>\n",
              "    <tr>\n",
              "      <th>1996-04</th>\n",
              "      <td>43</td>\n",
              "      <td>299498</td>\n",
              "      <td>7609</td>\n",
              "      <td>112283</td>\n",
              "    </tr>\n",
              "    <tr>\n",
              "      <th>1996-05</th>\n",
              "      <td>52</td>\n",
              "      <td>395824</td>\n",
              "      <td>5190</td>\n",
              "      <td>137083</td>\n",
              "    </tr>\n",
              "    <tr>\n",
              "      <th>1996-06</th>\n",
              "      <td>70</td>\n",
              "      <td>247212</td>\n",
              "      <td>14571</td>\n",
              "      <td>198130</td>\n",
              "    </tr>\n",
              "    <tr>\n",
              "      <th>1996-07</th>\n",
              "      <td>64</td>\n",
              "      <td>273899</td>\n",
              "      <td>13407</td>\n",
              "      <td>194685</td>\n",
              "    </tr>\n",
              "    <tr>\n",
              "      <th>1996-08</th>\n",
              "      <td>88</td>\n",
              "      <td>184405</td>\n",
              "      <td>8914</td>\n",
              "      <td>100091</td>\n",
              "    </tr>\n",
              "    <tr>\n",
              "      <th>1996-09</th>\n",
              "      <td>74</td>\n",
              "      <td>141211</td>\n",
              "      <td>3663</td>\n",
              "      <td>194972</td>\n",
              "    </tr>\n",
              "    <tr>\n",
              "      <th>1996-10</th>\n",
              "      <td>98</td>\n",
              "      <td>292225</td>\n",
              "      <td>14756</td>\n",
              "      <td>133166</td>\n",
              "    </tr>\n",
              "    <tr>\n",
              "      <th>1996-11</th>\n",
              "      <td>80</td>\n",
              "      <td>227864</td>\n",
              "      <td>3883</td>\n",
              "      <td>155598</td>\n",
              "    </tr>\n",
              "    <tr>\n",
              "      <th>1996-12</th>\n",
              "      <td>46</td>\n",
              "      <td>259963</td>\n",
              "      <td>5720</td>\n",
              "      <td>104563</td>\n",
              "    </tr>\n",
              "    <tr>\n",
              "      <th>1997-01</th>\n",
              "      <td>66</td>\n",
              "      <td>433783</td>\n",
              "      <td>16209</td>\n",
              "      <td>104216</td>\n",
              "    </tr>\n",
              "    <tr>\n",
              "      <th>1997-02</th>\n",
              "      <td>78</td>\n",
              "      <td>343034</td>\n",
              "      <td>5955</td>\n",
              "      <td>142908</td>\n",
              "    </tr>\n",
              "    <tr>\n",
              "      <th>1997-03</th>\n",
              "      <td>46</td>\n",
              "      <td>419255</td>\n",
              "      <td>14789</td>\n",
              "      <td>135994</td>\n",
              "    </tr>\n",
              "    <tr>\n",
              "      <th>1997-04</th>\n",
              "      <td>62</td>\n",
              "      <td>393175</td>\n",
              "      <td>11150</td>\n",
              "      <td>154659</td>\n",
              "    </tr>\n",
              "    <tr>\n",
              "      <th>1997-05</th>\n",
              "      <td>124</td>\n",
              "      <td>304954</td>\n",
              "      <td>4930</td>\n",
              "      <td>122983</td>\n",
              "    </tr>\n",
              "    <tr>\n",
              "      <th>1997-06</th>\n",
              "      <td>106</td>\n",
              "      <td>439380</td>\n",
              "      <td>15041</td>\n",
              "      <td>104657</td>\n",
              "    </tr>\n",
              "    <tr>\n",
              "      <th>1997-07</th>\n",
              "      <td>110</td>\n",
              "      <td>270706</td>\n",
              "      <td>14210</td>\n",
              "      <td>163008</td>\n",
              "    </tr>\n",
              "    <tr>\n",
              "      <th>1997-08</th>\n",
              "      <td>98</td>\n",
              "      <td>319472</td>\n",
              "      <td>5002</td>\n",
              "      <td>149116</td>\n",
              "    </tr>\n",
              "    <tr>\n",
              "      <th>1997-09</th>\n",
              "      <td>76</td>\n",
              "      <td>262688</td>\n",
              "      <td>3172</td>\n",
              "      <td>144727</td>\n",
              "    </tr>\n",
              "    <tr>\n",
              "      <th>1997-10</th>\n",
              "      <td>132</td>\n",
              "      <td>322140</td>\n",
              "      <td>9818</td>\n",
              "      <td>148500</td>\n",
              "    </tr>\n",
              "    <tr>\n",
              "      <th>1997-11</th>\n",
              "      <td>82</td>\n",
              "      <td>467572</td>\n",
              "      <td>13545</td>\n",
              "      <td>120676</td>\n",
              "    </tr>\n",
              "    <tr>\n",
              "      <th>1997-12</th>\n",
              "      <td>84</td>\n",
              "      <td>431484</td>\n",
              "      <td>2372</td>\n",
              "      <td>162135</td>\n",
              "    </tr>\n",
              "  </tbody>\n",
              "</table>\n",
              "</div>\n",
              "      <button class=\"colab-df-convert\" onclick=\"convertToInteractive('df-3d6562be-3c8a-45ff-832c-40d159cdd14d')\"\n",
              "              title=\"Convert this dataframe to an interactive table.\"\n",
              "              style=\"display:none;\">\n",
              "        \n",
              "  <svg xmlns=\"http://www.w3.org/2000/svg\" height=\"24px\"viewBox=\"0 0 24 24\"\n",
              "       width=\"24px\">\n",
              "    <path d=\"M0 0h24v24H0V0z\" fill=\"none\"/>\n",
              "    <path d=\"M18.56 5.44l.94 2.06.94-2.06 2.06-.94-2.06-.94-.94-2.06-.94 2.06-2.06.94zm-11 1L8.5 8.5l.94-2.06 2.06-.94-2.06-.94L8.5 2.5l-.94 2.06-2.06.94zm10 10l.94 2.06.94-2.06 2.06-.94-2.06-.94-.94-2.06-.94 2.06-2.06.94z\"/><path d=\"M17.41 7.96l-1.37-1.37c-.4-.4-.92-.59-1.43-.59-.52 0-1.04.2-1.43.59L10.3 9.45l-7.72 7.72c-.78.78-.78 2.05 0 2.83L4 21.41c.39.39.9.59 1.41.59.51 0 1.02-.2 1.41-.59l7.78-7.78 2.81-2.81c.8-.78.8-2.07 0-2.86zM5.41 20L4 18.59l7.72-7.72 1.47 1.35L5.41 20z\"/>\n",
              "  </svg>\n",
              "      </button>\n",
              "      \n",
              "  <style>\n",
              "    .colab-df-container {\n",
              "      display:flex;\n",
              "      flex-wrap:wrap;\n",
              "      gap: 12px;\n",
              "    }\n",
              "\n",
              "    .colab-df-convert {\n",
              "      background-color: #E8F0FE;\n",
              "      border: none;\n",
              "      border-radius: 50%;\n",
              "      cursor: pointer;\n",
              "      display: none;\n",
              "      fill: #1967D2;\n",
              "      height: 32px;\n",
              "      padding: 0 0 0 0;\n",
              "      width: 32px;\n",
              "    }\n",
              "\n",
              "    .colab-df-convert:hover {\n",
              "      background-color: #E2EBFA;\n",
              "      box-shadow: 0px 1px 2px rgba(60, 64, 67, 0.3), 0px 1px 3px 1px rgba(60, 64, 67, 0.15);\n",
              "      fill: #174EA6;\n",
              "    }\n",
              "\n",
              "    [theme=dark] .colab-df-convert {\n",
              "      background-color: #3B4455;\n",
              "      fill: #D2E3FC;\n",
              "    }\n",
              "\n",
              "    [theme=dark] .colab-df-convert:hover {\n",
              "      background-color: #434B5C;\n",
              "      box-shadow: 0px 1px 3px 1px rgba(0, 0, 0, 0.15);\n",
              "      filter: drop-shadow(0px 1px 2px rgba(0, 0, 0, 0.3));\n",
              "      fill: #FFFFFF;\n",
              "    }\n",
              "  </style>\n",
              "\n",
              "      <script>\n",
              "        const buttonEl =\n",
              "          document.querySelector('#df-3d6562be-3c8a-45ff-832c-40d159cdd14d button.colab-df-convert');\n",
              "        buttonEl.style.display =\n",
              "          google.colab.kernel.accessAllowed ? 'block' : 'none';\n",
              "\n",
              "        async function convertToInteractive(key) {\n",
              "          const element = document.querySelector('#df-3d6562be-3c8a-45ff-832c-40d159cdd14d');\n",
              "          const dataTable =\n",
              "            await google.colab.kernel.invokeFunction('convertToInteractive',\n",
              "                                                     [key], {});\n",
              "          if (!dataTable) return;\n",
              "\n",
              "          const docLinkHtml = 'Like what you see? Visit the ' +\n",
              "            '<a target=\"_blank\" href=https://colab.research.google.com/notebooks/data_table.ipynb>data table notebook</a>'\n",
              "            + ' to learn more about interactive tables.';\n",
              "          element.innerHTML = '';\n",
              "          dataTable['output_type'] = 'display_data';\n",
              "          await google.colab.output.renderOutput(dataTable, element);\n",
              "          const docLink = document.createElement('div');\n",
              "          docLink.innerHTML = docLinkHtml;\n",
              "          element.appendChild(docLink);\n",
              "        }\n",
              "      </script>\n",
              "    </div>\n",
              "  </div>\n",
              "  "
            ]
          },
          "metadata": {},
          "execution_count": 5
        }
      ]
    },
    {
      "cell_type": "markdown",
      "source": [
        "The Dataset is ready to use."
      ],
      "metadata": {
        "id": "2-_VInGFAMTo"
      }
    },
    {
      "cell_type": "markdown",
      "source": [
        "# Exploratory Data Analytics"
      ],
      "metadata": {
        "id": "2I58erR25bHn"
      }
    },
    {
      "cell_type": "markdown",
      "source": [
        "See how each food sale relates to the rate of visits to the dentist using scatter plots."
      ],
      "metadata": {
        "id": "U9Nej4mOCrXA"
      }
    },
    {
      "cell_type": "code",
      "source": [
        "import matplotlib.pyplot as plt"
      ],
      "metadata": {
        "id": "RrDJihVvRJY9"
      },
      "execution_count": 6,
      "outputs": []
    },
    {
      "cell_type": "code",
      "source": [
        "x_cols = df.columns[1:]\n",
        "y_col = \"the rate of visits to the dentist\"\n",
        "\n",
        "fig, axs = plt.subplots(len(x_cols), 1, figsize=(4,6))\n",
        "for ax, x_col in zip(axs, x_cols):\n",
        "    df.plot.scatter(x=x_col, y=y_col, c=\"darkcyan\", s=30, ax=ax)\n",
        "    ax.set_xlabel(x_col, fontsize=8)\n",
        "    ax.set_ylabel(y_col, fontsize=8)\n",
        "    ax.grid()\n",
        "plt.tight_layout()\n",
        "plt.show()"
      ],
      "metadata": {
        "colab": {
          "base_uri": "https://localhost:8080/",
          "height": 607
        },
        "id": "lnDZrmAhW_zi",
        "outputId": "36f651f3-6496-4ea4-cb02-7d6b44b08eec"
      },
      "execution_count": 7,
      "outputs": [
        {
          "output_type": "display_data",
          "data": {
            "text/plain": [
              "<Figure size 400x600 with 3 Axes>"
            ],
            "image/png": "[encoded data removed]"
          },
          "metadata": {}
        }
      ]
    },
    {
      "cell_type": "markdown",
      "source": [
        "Since the relationship is still not clear, use the Pearson correlation coefficient."
      ],
      "metadata": {
        "id": "Mw6vlhFLDWIO"
      }
    },
    {
      "cell_type": "code",
      "source": [
        "print(\"Pearson correlation coefficient:\")\n",
        "print(\"--------------------------------\")\n",
        "print(df.corr()[\"the rate of visits to the dentist\"])"
      ],
      "metadata": {
        "colab": {
          "base_uri": "https://localhost:8080/"
        },
        "id": "wxwmjtNyR4Vq",
        "outputId": "2995cc2c-509b-41a1-bd1c-b5be7368ed5f"
      },
      "execution_count": 8,
      "outputs": [
        {
          "output_type": "stream",
          "name": "stdout",
          "text": [
            "Pearson correlation coefficient:\n",
            "--------------------------------\n",
            "the rate of visits to the dentist    1.000000\n",
            "candy sales                          0.083333\n",
            "cereal sales                        -0.027465\n",
            "banana sales                         0.028650\n",
            "Name: the rate of visits to the dentist, dtype: float64\n"
          ]
        }
      ]
    },
    {
      "cell_type": "markdown",
      "source": [
        "Based on these results, candy sales have a significant influence on visits to the dentist.\n",
        "But it makes no sense that the patient who buys candy, visits the dentist in the same month that he buys candy. For example, he bought in January, then went to the dentist in January.\n",
        "Therefore, it is necessary to look at the relationship of sales in a particular month to visits in the following months, for example sales in January 1996, linked to the following months (Ex. February 1996). Such mapping is called the delayed effect for n months. Will be searched until 8 months delay."
      ],
      "metadata": {
        "id": "OsF4hko1DjIn"
      }
    },
    {
      "cell_type": "code",
      "source": [
        "import matplotlib.pyplot as plt\n",
        "from scipy import stats\n",
        "\n",
        "#Specification of delay up to 8 months\n",
        "n_delays = 8\n",
        "#Specification of the number of columns for subplots\n",
        "n_plt_cols = 2\n",
        "fig, axs = plt.subplots(round(n_delays/2), n_plt_cols, figsize=(10, 3*round(n_delays/2)), sharey=True)\n",
        "for i in range(n_delays):\n",
        "    x = df[\"candy sales\"][:-(i+1)]\n",
        "    y = df[\"the rate of visits to the dentist\"][i+1:]\n",
        "    pearson_r, p_value = stats.pearsonr(x, y)\n",
        "    title = \"The Delayed Effect %d Month (r = %.2f)\" % (i+1, pearson_r)\n",
        "    \n",
        "    ax = axs[i // n_plt_cols][i % n_plt_cols]\n",
        "    ax.scatter(x, y, c=\"darkcyan\")\n",
        "    ax.set_title(title, fontsize=11, color=\"maroon\")\n",
        "    if i % n_plt_cols == 0:\n",
        "        ax.set_ylabel(\"the rate of visits to the dentist\", fontsize=9)\n",
        "    ax.set_xlabel(\"candy sales\", fontsize=9)\n",
        "    ax.set_xlim([120000, 480000])\n",
        "    ax.grid()\n",
        "\n",
        "plt.tight_layout()\n",
        "plt.show()"
      ],
      "metadata": {
        "colab": {
          "base_uri": "https://localhost:8080/",
          "height": 1000
        },
        "id": "DiuotNiGSL-X",
        "outputId": "107329b3-897e-4642-e9e5-cddd0562c248"
      },
      "execution_count": 9,
      "outputs": [
        {
          "output_type": "display_data",
          "data": {
            "text/plain": [
              "<Figure size 1000x1200 with 8 Axes>"
            ],
            "image/png": "[encoded data removed]"
          },
          "metadata": {}
        }
      ]
    },
    {
      "cell_type": "markdown",
      "source": [
        "Based on these results, it can be seen that the 4-month delay has the most significant effect."
      ],
      "metadata": {
        "id": "JSMpAv29Rg1S"
      }
    },
    {
      "cell_type": "markdown",
      "source": [
        "# Modelling"
      ],
      "metadata": {
        "id": "bBnzxymc5iNQ"
      }
    },
    {
      "cell_type": "markdown",
      "source": [
        "To predict the number of patient visits to the dentist, a linear regression model will be used. Use the data on a delay of 4 months. "
      ],
      "metadata": {
        "id": "YWMC6Mm-0FB0"
      }
    },
    {
      "cell_type": "code",
      "source": [
        "import numpy as np\n",
        "\n",
        "x = df[\"candy sales\"][:-4].to_numpy()\n",
        "y = df[\"the rate of visits to the dentist\"][4:].to_numpy()\n",
        "\n",
        "x_mean = x.mean()\n",
        "y_mean = y.mean()\n",
        "\n",
        "m_numerator = ((x - x_mean) * (y - y_mean)).sum()\n",
        "m_denominator = ((x - x_mean)**2).sum()\n",
        "\n",
        "m = m_numerator / m_denominator\n",
        "b = y_mean - m * x_mean\n",
        "print(\"Linear Regression Equation: y = %.4e * x + %.4f\" % (m, b))"
      ],
      "metadata": {
        "colab": {
          "base_uri": "https://localhost:8080/"
        },
        "id": "oN7ak-OUTjXg",
        "outputId": "3da5785d-1dd2-40f8-cf39-a7e27f09bd8b"
      },
      "execution_count": 10,
      "outputs": [
        {
          "output_type": "stream",
          "name": "stdout",
          "text": [
            "Linear Regression Equation: y = 2.3035e-04 * x + 12.9341\n"
          ]
        }
      ]
    },
    {
      "cell_type": "markdown",
      "source": [
        "Using data from September - December 1997, it can be predicted for January - April 1998"
      ],
      "metadata": {
        "id": "icZkqnWP1eB8"
      }
    },
    {
      "cell_type": "code",
      "source": [
        "x_new = df[\"candy sales\"][-4:].to_numpy()\n",
        "\n",
        "y_pred = m * x_new + b\n",
        "print(\"Prediction of the level of visits to the dentist from 1998-01 to 1998-04:\")\n",
        "for i, visit in enumerate(y_pred):\n",
        "    print(\"1998-0%d: %4d visit.\" % (i+1, round(visit)))"
      ],
      "metadata": {
        "colab": {
          "base_uri": "https://localhost:8080/"
        },
        "id": "TGuD6biO2Km-",
        "outputId": "b8355f5c-ea5a-4b16-a78a-f2450f322055"
      },
      "execution_count": 11,
      "outputs": [
        {
          "output_type": "stream",
          "name": "stdout",
          "text": [
            "Prediction of the level of visits to the dentist from 1998-01 to 1998-04:\n",
            "1998-01:   73 visit.\n",
            "1998-02:   87 visit.\n",
            "1998-03:  121 visit.\n",
            "1998-04:  112 visit.\n"
          ]
        }
      ]
    },
    {
      "cell_type": "markdown",
      "source": [
        "Such are the results of the prediction of the level of patient visits to the dentist."
      ],
      "metadata": {
        "id": "GwJ6Uqck1xuX"
      }
    },
    {
      "cell_type": "markdown",
      "source": [
        "Besides using manual methods, creating linear regression models can also use the Scikit-Learn library."
      ],
      "metadata": {
        "id": "fX6pfK3x16z0"
      }
    },
    {
      "cell_type": "code",
      "source": [
        "#Linear Regression using Scikit-Learn\n",
        "from sklearn.linear_model import LinearRegression\n",
        "\n",
        "x = df[\"candy sales\"][:-4].to_numpy().reshape((-1,1))\n",
        "y = df[\"the rate of visits to the dentist\"][4:].to_numpy().reshape((-1,1))\n",
        "\n",
        "lr = LinearRegression()\n",
        "lr.fit(x,y)\n",
        "\n",
        "x_new = df[\"candy sales\"][-4:].to_numpy().reshape((-1,1))\n",
        "\n",
        "y_pred = lr.predict(x_new)\n",
        "\n",
        "print(\"Linear Regression Equation: y = %.4e * x + %.4f\\n\" % (lr.coef_, lr.intercept_))\n",
        "print(\"Prediction of the level of visits to the dentist from 1998-01 to 1998-04:\")\n",
        "for i, visit in enumerate(y_pred):\n",
        "    print(\"1998-0%d: %4d visit.\" % (i+1, round(visit[0])))"
      ],
      "metadata": {
        "colab": {
          "base_uri": "https://localhost:8080/"
        },
        "id": "ooE1-xrs35px",
        "outputId": "1e66cbe7-a51d-4c24-f001-9078c98b2563"
      },
      "execution_count": 12,
      "outputs": [
        {
          "output_type": "stream",
          "name": "stdout",
          "text": [
            "Linear Regression Equation: y = 2.3035e-04 * x + 12.9341\n",
            "\n",
            "Prediction of the level of visits to the dentist from 1998-01 to 1998-04:\n",
            "1998-01:   73 visit.\n",
            "1998-02:   87 visit.\n",
            "1998-03:  121 visit.\n",
            "1998-04:  112 visit.\n"
          ]
        }
      ]
    }
  ]
}